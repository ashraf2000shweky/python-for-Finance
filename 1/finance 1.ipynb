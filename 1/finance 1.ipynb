{
 "cells": [
  {
   "cell_type": "code",
   "execution_count": 2,
   "id": "351a255d",
   "metadata": {},
   "outputs": [],
   "source": [
    "import datetime  "
   ]
  },
  {
   "cell_type": "code",
   "execution_count": 3,
   "id": "7d97987b",
   "metadata": {},
   "outputs": [
    {
     "data": {
      "text/plain": [
       "datetime.date(2022, 7, 22)"
      ]
     },
     "execution_count": 3,
     "metadata": {},
     "output_type": "execute_result"
    }
   ],
   "source": [
    "d = datetime.date(2022,7,22) # تعررف وقت\n",
    "d "
   ]
  },
  {
   "cell_type": "code",
   "execution_count": 4,
   "id": "8af080d7",
   "metadata": {},
   "outputs": [
    {
     "name": "stdout",
     "output_type": "stream",
     "text": [
      "16\n",
      "2022\n",
      "11\n"
     ]
    },
    {
     "data": {
      "text/plain": [
       "datetime.date(2022, 11, 16)"
      ]
     },
     "execution_count": 4,
     "metadata": {},
     "output_type": "execute_result"
    }
   ],
   "source": [
    "tday = datetime.date.today() # تاريخ اليوم \n",
    "print(tday.day)\n",
    "print(tday.year)\n",
    "print(tday.month)\n",
    "\n",
    "tday"
   ]
  },
  {
   "cell_type": "code",
   "execution_count": 13,
   "id": "f1112161",
   "metadata": {},
   "outputs": [
    {
     "data": {
      "text/plain": [
       "datetime.date(2022, 12, 14)"
      ]
     },
     "execution_count": 13,
     "metadata": {},
     "output_type": "execute_result"
    }
   ],
   "source": [
    "tdelta = datetime.timedelta(weeks=4) # تساعد على تعريف فترة زمنية \n",
    "tday + tdelta"
   ]
  },
  {
   "cell_type": "code",
   "execution_count": 14,
   "id": "3422bffb",
   "metadata": {},
   "outputs": [
    {
     "data": {
      "text/plain": [
       "datetime.date(2022, 11, 20)"
      ]
     },
     "execution_count": 14,
     "metadata": {},
     "output_type": "execute_result"
    }
   ],
   "source": [
    "tdelta = datetime.timedelta(days=4) # تساعد على تعريف فترة زمنية \n",
    "tday + tdelta"
   ]
  },
  {
   "cell_type": "code",
   "execution_count": 17,
   "id": "78649801",
   "metadata": {},
   "outputs": [
    {
     "data": {
      "text/plain": [
       "datetime.timedelta(days=-300)"
      ]
     },
     "execution_count": 17,
     "metadata": {},
     "output_type": "execute_result"
    }
   ],
   "source": [
    "bday = datetime.date(2022,1,20)\n",
    "till_bday = bday - tday # معرفة الفترة بين الزمنين\n",
    "till_bday \n"
   ]
  },
  {
   "cell_type": "code",
   "execution_count": 19,
   "id": "f78726ce",
   "metadata": {},
   "outputs": [
    {
     "data": {
      "text/plain": [
       "(9, 40)"
      ]
     },
     "execution_count": 19,
     "metadata": {},
     "output_type": "execute_result"
    }
   ],
   "source": [
    "t = datetime.time(9,40,50,100000) # تعريف وقت \n",
    "t.hour, t.minute"
   ]
  },
  {
   "cell_type": "code",
   "execution_count": 22,
   "id": "075dc6db",
   "metadata": {},
   "outputs": [
    {
     "data": {
      "text/plain": [
       "(2016, 7, 26)"
      ]
     },
     "execution_count": 22,
     "metadata": {},
     "output_type": "execute_result"
    }
   ],
   "source": [
    "dt = datetime.datetime(2016,7,26,12,30,45,100000)\n",
    "dt.year,dt.month,dt.day"
   ]
  },
  {
   "cell_type": "code",
   "execution_count": 23,
   "id": "b53441c3",
   "metadata": {},
   "outputs": [
    {
     "data": {
      "text/plain": [
       "datetime.datetime(2016, 8, 2, 12, 30, 45, 100000)"
      ]
     },
     "execution_count": 23,
     "metadata": {},
     "output_type": "execute_result"
    }
   ],
   "source": [
    "tdelta = datetime.timedelta(days=7)\n",
    "dt + tdelta\n"
   ]
  },
  {
   "cell_type": "code",
   "execution_count": 25,
   "id": "c0bcc189",
   "metadata": {},
   "outputs": [
    {
     "data": {
      "text/plain": [
       "datetime.date(2022, 11, 16)"
      ]
     },
     "execution_count": 25,
     "metadata": {},
     "output_type": "execute_result"
    }
   ],
   "source": [
    "today = datetime.date.today()\n",
    "today"
   ]
  },
  {
   "cell_type": "code",
   "execution_count": 28,
   "id": "3b2d4d2d",
   "metadata": {},
   "outputs": [
    {
     "data": {
      "text/plain": [
       "'Wednesday, 16th of (November,11) 2022'"
      ]
     },
     "execution_count": 28,
     "metadata": {},
     "output_type": "execute_result"
    }
   ],
   "source": [
    "# (%A,أسم اليوم),(%d,تاريخ اليوم),(%B,أسم الشهر ),(%m,تاريخ الشهر),(%Y,السنة )\n",
    "today.strftime('%A, %dth of (%B,%m) %Y') "
   ]
  },
  {
   "cell_type": "code",
   "execution_count": 12,
   "id": "842cd1b0",
   "metadata": {},
   "outputs": [
    {
     "data": {
      "text/plain": [
       "datetime.date(2023, 10, 19)"
      ]
     },
     "execution_count": 12,
     "metadata": {},
     "output_type": "execute_result"
    }
   ],
   "source": [
    "next_year =  today.replace(year =today.year + 1) # تعريف السنة القادمة\n",
    "next_year"
   ]
  },
  {
   "cell_type": "code",
   "execution_count": 13,
   "id": "71c99236",
   "metadata": {},
   "outputs": [
    {
     "name": "stdout",
     "output_type": "stream",
     "text": [
      "only 365 days until next year\n"
     ]
    }
   ],
   "source": [
    "difference = abs(next_year - today)\n",
    "print('only {} days until next year'.format(difference.days))\n"
   ]
  },
  {
   "cell_type": "code",
   "execution_count": 17,
   "id": "d859f7d0",
   "metadata": {},
   "outputs": [
    {
     "name": "stdout",
     "output_type": "stream",
     "text": [
      "Nikola Tesla was born on: 1856-07-10\n"
     ]
    }
   ],
   "source": [
    "NikolaTesla = datetime.date(1856,7,10)\n",
    "print('Nikola Tesla was born on:',NikolaTesla)"
   ]
  },
  {
   "cell_type": "code",
   "execution_count": 18,
   "id": "550fc8e8",
   "metadata": {},
   "outputs": [
    {
     "data": {
      "text/plain": [
       "3"
      ]
     },
     "execution_count": 18,
     "metadata": {},
     "output_type": "execute_result"
    }
   ],
   "source": [
    "NikolaTesla.weekday()"
   ]
  },
  {
   "cell_type": "code",
   "execution_count": 19,
   "id": "bb11f9d7",
   "metadata": {},
   "outputs": [
    {
     "data": {
      "text/plain": [
       "datetime.datetime(2022, 10, 19, 15, 27, 50, 580711)"
      ]
     },
     "execution_count": 19,
     "metadata": {},
     "output_type": "execute_result"
    }
   ],
   "source": [
    "now = datetime.datetime.now()\n",
    "now"
   ]
  },
  {
   "cell_type": "code",
   "execution_count": null,
   "id": "f5ac18c7",
   "metadata": {},
   "outputs": [],
   "source": []
  }
 ],
 "metadata": {
  "kernelspec": {
   "display_name": "Python 3 (ipykernel)",
   "language": "python",
   "name": "python3"
  },
  "language_info": {
   "codemirror_mode": {
    "name": "ipython",
    "version": 3
   },
   "file_extension": ".py",
   "mimetype": "text/x-python",
   "name": "python",
   "nbconvert_exporter": "python",
   "pygments_lexer": "ipython3",
   "version": "3.9.12"
  }
 },
 "nbformat": 4,
 "nbformat_minor": 5
}
